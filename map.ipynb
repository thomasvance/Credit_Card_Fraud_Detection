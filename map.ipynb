{
 "cells": [
  {
   "cell_type": "code",
   "execution_count": 3,
   "metadata": {},
   "outputs": [],
   "source": [
    "import folium\n",
    "\n",
    "# Example: Static coordinates for a person (replace with dynamic data if needed)\n",
    "latitude = 37.0902  # Example latitude\n",
    "longitude = -95.7129  # Example longitude\n",
    "\n",
    "# Create the map\n",
    "user_map = folium.Map(location=[latitude, longitude], zoom_start=10)\n",
    "\n",
    "# Add a marker (you can customize this as needed)\n",
    "folium.Marker(\n",
    "    location=[latitude, longitude],\n",
    "    popup=\"Name: Example Person\",\n",
    "    icon=folium.Icon(color=\"blue\")\n",
    ").add_to(user_map)\n",
    "\n",
    "# Save the map as an HTML file\n",
    "user_map.save('user_map.html')\n"
   ]
  }
 ],
 "metadata": {
  "kernelspec": {
   "display_name": "dev",
   "language": "python",
   "name": "dev"
  },
  "language_info": {
   "codemirror_mode": {
    "name": "ipython",
    "version": 3
   },
   "file_extension": ".py",
   "mimetype": "text/x-python",
   "name": "python",
   "nbconvert_exporter": "python",
   "pygments_lexer": "ipython3",
   "version": "3.10.14"
  }
 },
 "nbformat": 4,
 "nbformat_minor": 2
}
