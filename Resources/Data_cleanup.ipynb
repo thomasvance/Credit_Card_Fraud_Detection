{
 "cells": [
  {
   "cell_type": "code",
   "execution_count": null,
   "metadata": {},
   "outputs": [],
   "source": [
    "import numpy as np\n",
    "import pandas as pd\n",
    "from tensorflow.keras.models import Sequential\n",
    "from tensorflow.keras.layers import Dense, LSTM, Dropout\n",
    "from sklearn.preprocessing import MinMaxScaler\n",
    "from sklearn.model_selection import train_test_split\n",
    "from sklearn.metrics import classification_report, roc_auc_score\n",
    "from tensorflow.keras.callbacks import EarlyStopping\n"
   ]
  },
  {
   "cell_type": "code",
   "execution_count": null,
   "metadata": {},
   "outputs": [],
   "source": [
    "df = pd.read_csv('mock_transactions.csv')\n",
    "df1 = pd.read_csv('Merged_card_user.csv')\n",
    "\n",
    "df1"
   ]
  },
  {
   "cell_type": "code",
   "execution_count": null,
   "metadata": {},
   "outputs": [],
   "source": [
    "df['Errors?'] = df['Errors?'].fillna('None')\n",
    "\n",
    "# 2. Remove backticks from 'Card Number' and 'CVV'\n",
    "df['Card Number'] = df['Card Number'].str.replace('`', '', regex=False).astype('str')\n",
    "df['CVV'] = df['CVV'].str.replace('`', '', regex=False).astype('str')\n",
    "\n",
    "df1['Card Number'] = df1['Card Number'].str.replace('`', '', regex=False).astype('str')\n",
    "df1['CVV'] = df1['CVV'].str.replace('`', '', regex=False).astype('str')\n",
    "# 3. Remove '$' from 'Amount' and convert to float\n",
    "df['Amount'] = df['Amount'].str.replace(',', '', regex=False)\n",
    "# df1['Amount'] = df['Amount'].str.replace(',', '', regex=False)\n",
    "\n",
    "# First, strip out the '$', then convert the resulting string to float\n",
    "df['Amount'] = df['Amount'].str.replace('$', '', regex=False).astype(float)\n",
    "# df1['Amount'] = df['Amount'].str.replace('$', '', regex=False).astype(float)\n",
    "\n",
    "# Now df is updated accordingly\n",
    "# You can verify by checking the head of the DataFrame\n",
    "print(df.head())\n",
    "# Assuming your DataFrame is named df and is fully cleaned\n",
    "print(df1.head())\n",
    "\n"
   ]
  },
  {
   "cell_type": "code",
   "execution_count": null,
   "metadata": {},
   "outputs": [],
   "source": [
    "df.to_json('mock_transactions.json', orient='records')\n",
    "df1.to_json('Merged_card_user.json', orient='records')"
   ]
  },
  {
   "cell_type": "code",
   "execution_count": null,
   "metadata": {},
   "outputs": [],
   "source": [
    "# print(df.head())\n",
    "# Assuming your DataFrame is named df and is fully cleaned\n",
    "df1.columns"
   ]
  },
  {
   "cell_type": "code",
   "execution_count": null,
   "metadata": {},
   "outputs": [],
   "source": [
    "import pandas as pd\n",
    "import json\n",
    "\n",
    "# Load the data\n",
    "merged_users_df = pd.read_json('Merged_card_user.json')\n",
    "transactions_df = pd.read_json('mock_transactions.json')\n",
    "\n",
    "# Ensure 'Card Number' is a string for consistent handling\n",
    "merged_users_df['Card Number'] = merged_users_df['Card Number'].astype(str)\n",
    "transactions_df['Card Number'] = transactions_df['Card Number'].astype(str)\n",
    "\n",
    "# Group transactions by 'Card Number'\n",
    "transactions_grouped = transactions_df.groupby('Card Number').apply(lambda x: x.to_dict(orient='records')).to_dict()\n",
    "\n",
    "# Initialize the result dictionary\n",
    "result_dict = {}\n",
    "\n",
    "# Iterate over the user DataFrame\n",
    "for _, user_row in merged_users_df.iterrows():\n",
    "    user_id = user_row['User']\n",
    "    card_number = user_row['Card Number']\n",
    "\n",
    "    # If the user is not already in the dictionary, add their personal information\n",
    "    if user_id not in result_dict:\n",
    "        result_dict[user_id] = {\n",
    "            \"User\": user_row['User'],\n",
    "            \"Person\": user_row['Person'],\n",
    "            \"Current Age\": user_row['Current Age'],\n",
    "            \"Retirement Age\": user_row['Retirement Age'],\n",
    "            \"Birth Year\": user_row['Birth Year'],\n",
    "            \"Birth Month\": user_row['Birth Month'],\n",
    "            \"Gender\": user_row['Gender'],\n",
    "            \"Address\": user_row['Address'],\n",
    "            \"City\": user_row['City'],\n",
    "            \"State\": user_row['State'],\n",
    "            \"Zipcode\": user_row['Zipcode'],\n",
    "            \"Latitude\": user_row['Latitude'],\n",
    "            \"Longitude\": user_row['Longitude'],\n",
    "            \"Per Capita Income - Zipcode\": user_row['Per Capita Income - Zipcode'],\n",
    "            \"Yearly Income - Person\": user_row['Yearly Income - Person'],\n",
    "            \"Total Debt\": user_row['Total Debt'],\n",
    "            \"FICO Score\": user_row['FICO Score'],\n",
    "            \"Num Credit Cards\": user_row['Num Credit Cards'],\n",
    "            \"Cards\": {}\n",
    "        }\n",
    "\n",
    "    # Add the card details and transactions under the \"Cards\" key\n",
    "    result_dict[user_id]['Cards'][card_number] = {\n",
    "        \"Card Details\": {\n",
    "            \"Card Type\": user_row['Card Type'],\n",
    "            \"Expires\": user_row['Expires'],\n",
    "            \"CVV\": user_row['CVV'],\n",
    "            \"Has Chip\": user_row['Has Chip'],\n",
    "            \"Credit Limit\": user_row['Credit Limit'],\n",
    "            \"Account Balance\": user_row['Account Balance'],\n",
    "            \"Acct Open Date\": user_row['Acct Open Date'],\n",
    "            \"Year PIN Last Changed\": user_row['Year PIN last Changed'],\n",
    "            \"Card on Dark Web\": user_row['Card on Dark Web']\n",
    "        },\n",
    "        \"Transactions\": transactions_grouped.get(card_number, [])\n",
    "    }\n",
    "\n",
    "# Convert the result dictionary to JSON\n",
    "json_output = json.dumps(result_dict, indent=4, default=str)\n",
    "\n",
    "# Save the JSON output to a file\n",
    "with open('enhanced_combined_data.json', 'w') as json_file:\n",
    "    json_file.write(json_output)\n",
    "\n",
    "print(\"JSON file saved successfully.\")\n"
   ]
  },
  {
   "cell_type": "code",
   "execution_count": null,
   "metadata": {},
   "outputs": [],
   "source": []
  },
  {
   "cell_type": "code",
   "execution_count": null,
   "metadata": {},
   "outputs": [],
   "source": []
  },
  {
   "cell_type": "code",
   "execution_count": null,
   "metadata": {},
   "outputs": [],
   "source": []
  },
  {
   "cell_type": "code",
   "execution_count": null,
   "metadata": {},
   "outputs": [],
   "source": [
    "\n"
   ]
  },
  {
   "cell_type": "code",
   "execution_count": null,
   "metadata": {},
   "outputs": [],
   "source": [
    "\n"
   ]
  },
  {
   "cell_type": "code",
   "execution_count": null,
   "metadata": {},
   "outputs": [],
   "source": [
    "\n"
   ]
  }
 ],
 "metadata": {
  "kernelspec": {
   "display_name": "dev",
   "language": "python",
   "name": "dev"
  },
  "language_info": {
   "codemirror_mode": {
    "name": "ipython",
    "version": 3
   },
   "file_extension": ".py",
   "mimetype": "text/x-python",
   "name": "python",
   "nbconvert_exporter": "python",
   "pygments_lexer": "ipython3",
   "version": "3.10.14"
  }
 },
 "nbformat": 4,
 "nbformat_minor": 2
}
